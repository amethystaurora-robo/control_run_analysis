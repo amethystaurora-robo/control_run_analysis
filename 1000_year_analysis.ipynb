{
 "cells": [
  {
   "cell_type": "code",
   "execution_count": 1,
   "id": "ded151dc-3213-4535-bcf3-49bdca0f523c",
   "metadata": {},
   "outputs": [],
   "source": [
    "import xarray as xr\n",
    "import pandas as pd\n",
    "import numpy as np"
   ]
  },
  {
   "cell_type": "code",
   "execution_count": 2,
   "id": "ac962ef8-867d-412b-a84f-dc6c842bc076",
   "metadata": {},
   "outputs": [],
   "source": [
    "tas_1k = xr.open_dataset('tas_merged.nc')"
   ]
  },
  {
   "cell_type": "code",
   "execution_count": 4,
   "id": "9348e9ec-2a8e-4ef8-b54c-8d4a82cddb1f",
   "metadata": {},
   "outputs": [],
   "source": [
    "df_tas = tas_1k[[\"tas\"]].to_dataframe().reset_index()"
   ]
  },
  {
   "cell_type": "code",
   "execution_count": 7,
   "id": "0ecaa8d3-aad0-4bb4-85ee-588b9646d0a2",
   "metadata": {},
   "outputs": [
    {
     "data": {
      "text/html": [
       "<div>\n",
       "<style scoped>\n",
       "    .dataframe tbody tr th:only-of-type {\n",
       "        vertical-align: middle;\n",
       "    }\n",
       "\n",
       "    .dataframe tbody tr th {\n",
       "        vertical-align: top;\n",
       "    }\n",
       "\n",
       "    .dataframe thead th {\n",
       "        text-align: right;\n",
       "    }\n",
       "</style>\n",
       "<table border=\"1\" class=\"dataframe\">\n",
       "  <thead>\n",
       "    <tr style=\"text-align: right;\">\n",
       "      <th></th>\n",
       "      <th>time</th>\n",
       "      <th>lat</th>\n",
       "      <th>lon</th>\n",
       "      <th>tas</th>\n",
       "    </tr>\n",
       "  </thead>\n",
       "  <tbody>\n",
       "    <tr>\n",
       "      <th>0</th>\n",
       "      <td>20105.0</td>\n",
       "      <td>85.760587</td>\n",
       "      <td>0.000</td>\n",
       "      <td>232.523300</td>\n",
       "    </tr>\n",
       "    <tr>\n",
       "      <th>1</th>\n",
       "      <td>20105.0</td>\n",
       "      <td>85.760587</td>\n",
       "      <td>5.625</td>\n",
       "      <td>232.420792</td>\n",
       "    </tr>\n",
       "    <tr>\n",
       "      <th>2</th>\n",
       "      <td>20105.0</td>\n",
       "      <td>85.760587</td>\n",
       "      <td>11.250</td>\n",
       "      <td>232.227554</td>\n",
       "    </tr>\n",
       "    <tr>\n",
       "      <th>3</th>\n",
       "      <td>20105.0</td>\n",
       "      <td>85.760587</td>\n",
       "      <td>16.875</td>\n",
       "      <td>231.934937</td>\n",
       "    </tr>\n",
       "    <tr>\n",
       "      <th>4</th>\n",
       "      <td>20105.0</td>\n",
       "      <td>85.760587</td>\n",
       "      <td>22.500</td>\n",
       "      <td>231.570984</td>\n",
       "    </tr>\n",
       "  </tbody>\n",
       "</table>\n",
       "</div>"
      ],
      "text/plain": [
       "      time        lat     lon         tas\n",
       "0  20105.0  85.760587   0.000  232.523300\n",
       "1  20105.0  85.760587   5.625  232.420792\n",
       "2  20105.0  85.760587  11.250  232.227554\n",
       "3  20105.0  85.760587  16.875  231.934937\n",
       "4  20105.0  85.760587  22.500  231.570984"
      ]
     },
     "execution_count": 7,
     "metadata": {},
     "output_type": "execute_result"
    }
   ],
   "source": [
    "df_tas.head()"
   ]
  },
  {
   "cell_type": "code",
   "execution_count": null,
   "id": "22bdc445-9257-4d8e-9e0c-02b2ceff4dd4",
   "metadata": {},
   "outputs": [],
   "source": []
  }
 ],
 "metadata": {
  "kernelspec": {
   "display_name": "Python 3 (ipykernel)",
   "language": "python",
   "name": "python3"
  },
  "language_info": {
   "codemirror_mode": {
    "name": "ipython",
    "version": 3
   },
   "file_extension": ".py",
   "mimetype": "text/x-python",
   "name": "python",
   "nbconvert_exporter": "python",
   "pygments_lexer": "ipython3",
   "version": "3.10.18"
  }
 },
 "nbformat": 4,
 "nbformat_minor": 5
}
